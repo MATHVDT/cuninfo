{
 "cells": [
  {
   "attachments": {},
   "cell_type": "markdown",
   "metadata": {},
   "source": [
    "# Fichier de test de récupération des horaires de bus tcl"
   ]
  },
  {
   "cell_type": "code",
   "execution_count": 1,
   "metadata": {},
   "outputs": [],
   "source": [
    "# Librairies\n",
    "import json\n",
    "import pandas as pd\n",
    "import requests\n",
    "import io\n",
    "from datetime import datetime\n",
    "import math\n",
    "import serial\n",
    "import serial.tools.list_ports\n",
    "import time"
   ]
  },
  {
   "attachments": {},
   "cell_type": "markdown",
   "metadata": {},
   "source": [
    "## Place arrets infos"
   ]
  },
  {
   "attachments": {},
   "cell_type": "markdown",
   "metadata": {},
   "source": [
    "[Lien pour voir les ids des arrêts](https://data.grandlyon.com/jeux-de-donnees/points-arret-reseau-transports-commun-lyonnais/donnees)\n",
    "\n",
    "| id | nom | desserte | gid |\n",
    "| --- | --- | --- | --- |\n",
    "| 11002 | Monchat Place Ronde | C9A:R | 686 |\n",
    "| 43120 | Monchat Place Ronde | C16A:R | 687 |\n",
    "| 43119 | Monchat Place Ronde | C26A:A | 688 |\n",
    "| 42616 | Monchat Place Ronde | C9A:A | 685 |\n",
    "| 47226 | Aubepins | 25A:A,C26A:R | 9266 |\n",
    "| 85 | Aubepins | 25A:A,C26A:A |850 |"
   ]
  },
  {
   "attachments": {},
   "cell_type": "markdown",
   "metadata": {},
   "source": [
    "## Arduino"
   ]
  },
  {
   "cell_type": "code",
   "execution_count": 2,
   "metadata": {},
   "outputs": [],
   "source": [
    "import serial\n",
    "import serial.tools.list_ports\n",
    "import time"
   ]
  },
  {
   "cell_type": "code",
   "execution_count": 3,
   "metadata": {},
   "outputs": [],
   "source": [
    "def connection_arduino_choix():\n",
    "    print(\"Recherche d'un port serie...\")\n",
    "\n",
    "    ports = serial.tools.list_ports.comports(include_links=False)\n",
    "\n",
    "    if (len(ports) != 0): # on a trouvé au moins un port actif\n",
    "\n",
    "        if (len(ports) > 1):     # affichage du nombre de ports trouvés\n",
    "            print (str(len(ports)) + \" ports actifs ont ete trouves:\") \n",
    "        else:\n",
    "            print (\"1 port actif a ete trouve:\")\n",
    "\n",
    "        ligne = 1\n",
    "\n",
    "        for port in ports :  # affichage du nom de chaque port\n",
    "            print(str(ligne) + ' : ' + port.device)\n",
    "            ligne = ligne + 1\n",
    "\n",
    "        portChoisi = input('Ecrivez le numero du port desire:')\n",
    "\n",
    "        print('1: 9600   2: 38400    3: 115200')\n",
    "\n",
    "        baud = input('Ecrivez le baud rate desire:')\n",
    "\n",
    "        if (baud == 1):\n",
    "            baud = 9600\n",
    "        if (baud == 2):\n",
    "            baud = 38400\n",
    "        if (baud == 3):\n",
    "            baud = 115200\n",
    "\n",
    "        # on établit la communication série\n",
    "        device_selected=ports[int(portChoisi) - 1].device\n",
    "        arduino = serial.Serial(device_selected, baud, timeout=1)\n",
    "        print('Connexion a ' + arduino.name + ' a un baud rate de ' + str(baud))\n",
    "\n",
    "        # si on reçoit un message, on l'affiche\n",
    "        while True:\n",
    "            data = arduino.readline()[:-2]\n",
    "            if data:\n",
    "                print(data)\n",
    "\n",
    "    else: # on n'a pas trouvé de port actif\n",
    "        print(\"Aucun port actif n'a ete trouve\")"
   ]
  },
  {
   "cell_type": "code",
   "execution_count": 4,
   "metadata": {},
   "outputs": [],
   "source": [
    "def envoyer_message_arduino(port, baud, message = 'Hello, Arduino!'):\n",
    "    # Remplacez 'COM3' par le nom du port série utilisé par votre carte Arduino\n",
    "    arduino = serial.Serial(port, baud)\n",
    "\n",
    "    # Attendre que la connexion soit établie\n",
    "    time.sleep(2)\n",
    "\n",
    "    # Envoyer des données à l'Arduino\n",
    "    arduino.write(message.encode('ascii'))\n",
    "\n",
    "    # Fermer la connexion\n",
    "    arduino.close()"
   ]
  },
  {
   "attachments": {},
   "cell_type": "markdown",
   "metadata": {},
   "source": [
    "# Autre test *RESET*"
   ]
  },
  {
   "attachments": {},
   "cell_type": "markdown",
   "metadata": {},
   "source": [
    "#### [Page web](https://rdata-grandlyon.readthedocs.io/fr/latest/services.html?highlight=temps%20r%C3%A9el#les-services-offerts-par-grandlyon-data) \n"
   ]
  },
  {
   "attachments": {},
   "cell_type": "markdown",
   "metadata": {},
   "source": [
    "\n",
    "Il est également possible de filtrer les objets renvoyés selon une valeur d’attribut avec une url de la forme :\n",
    "\n",
    "https://download.data.grandlyon.com/ws/<service>/<table_schema>.<table_name>/all.json?field=<attribut>&value=<valeur>\n",
    "\n",
    "Exemple : https://download.data.grandlyon.com/ws/grandlyon/abr_arbres_alignement.abrarbre/all.json?field=essencefrancais&value=Marronnier%20de%20Virginie\n",
    "\n",
    "all.json contient aussi des informations supplémentaires liées à la pagination, à savoir des liens vers les pages précédentes et suivantes sous la forme d’une URL reprenant la valeur de maxfeatures utilisée pour la page en cours et modifiant la valeur du paramètre « start » en fonction de la page en cours.\n",
    "\n",
    "Exemple : https://download.data.grandlyon.com/ws/grandlyon/gip_proprete.gipdecheterie/all.json?maxfeatures=5&start=10\n",
    "\n",
    "Cette URL retourne les enregistrements 10 à 15 de la couche déchetterie.\n",
    "\n",
    "Les services REST-JSON sont ainsi particulièrement adaptés à la constitution de listes de valeurs, de tableaux et de grilles paginés, d’interface de navigation au sein des données.\n",
    "\n",
    "Ensuite, à la mode Django, paramètres personnalisés sous la forme champs__opérateur, avec champ = nom du champ cible et opérateur à choisir parmi eq, gt, gte, lt, lte, in\n",
    "\n",
    "Exemple : https://download.recette.data.grandlyon.com/ws/grandlyon/abr_arbres_alignement.abrarbre/all.json?codeinsee__eq=69116&commune__in=LIMONEST,BRON&dateplantation__gte=2009-03-01&gid__in=6795,6798\n",
    "\n",
    "Les opérateurs: * eq : (equal) égalité * gt : (greater than) strictement plus grand que * gte : (greater than or equal) plus grand ou égal * lt : (lesser than) strictement plus petit que * lte : (lesser than or equal) plus petit ou égal * in : (in) dans la liste, les éléments de la liste sont séparés par des virgules.\n",
    "\n",
    "Services REST (en CSV)\n",
    "Exemple : https://download.data.grandlyon.com/ws/grandlyon/gip_proprete.gipdecheterie/all.csv?maxfeatures=5&start=10\n",
    "\n",
    "De la même façon que l’on requête le service JSON, on peut demander un extrait CSV en remplaçant l’extension « .json » de l’URL par « .csv ».\n",
    "\n",
    "Il est possible de remplacer le séparateur décimal en ajoutant “ds=,” ou “ds=.” dans la requête.\n",
    "\n",
    "Le séparateur de colonne peut aussi être changé en utilisant l’option « separator=; » par exemple.\n",
    "\n",
    "Un paramètre supplémentaire « geometry=on » (off par défaut) ajoute une colonne « WKT » contenant la géométrie de l’objet au format [WKT](https://fr.wikipedia.org/wiki/Well-known_text)"
   ]
  },
  {
   "attachments": {},
   "cell_type": "markdown",
   "metadata": {},
   "source": [
    "#### explication url"
   ]
  },
  {
   "attachments": {},
   "cell_type": "markdown",
   "metadata": {},
   "source": [
    "url = https://download.data.grandlyon.com/ws/rdata/tcl_sytral.tclpassagearret/all.json?id__eq=85&ligne__eq=C26A&type__eq=E\n",
    "\n",
    "base url = https://download.data.grandlyon.com/ws/rdata/tcl_sytral.tclpassagearret/all.json\n"
   ]
  },
  {
   "attachments": {},
   "cell_type": "markdown",
   "metadata": {},
   "source": [
    "#### Code"
   ]
  },
  {
   "cell_type": "code",
   "execution_count": 5,
   "metadata": {},
   "outputs": [],
   "source": [
    "# Librairies\n",
    "import json\n",
    "import pandas as pd\n",
    "import requests\n",
    "import io\n",
    "from datetime import datetime\n",
    "import math\n",
    "import serial\n",
    "import serial.tools.list_ports\n",
    "import time"
   ]
  },
  {
   "cell_type": "code",
   "execution_count": 6,
   "metadata": {},
   "outputs": [],
   "source": [
    "# Requête\n",
    "username=\"\"\n",
    "password=\"\"\n",
    "base_url = \"https://download.data.grandlyon.com/ws/rdata/tcl_sytral.tclpassagearret/all.csv\"\n",
    "auth = (username, password)\n",
    "\n",
    "# Arduino\n",
    "port_selected='COM3'\n",
    "# port_selected_unix='/dev/ttyUSB0'\n",
    "baud_selected=9600\n",
    "\n",
    "# Arrêt\n",
    "id_arret=85  # Aubepin\n",
    "ligne=\"C26A\" # Ligne C26 direction Grange Blanche"
   ]
  },
  {
   "cell_type": "code",
   "execution_count": 7,
   "metadata": {},
   "outputs": [
    {
     "name": "stdout",
     "output_type": "stream",
     "text": [
      "   id ligne       direction delaipassage type         heurepassage  idtarretdestination                 coursetheorique    gid      last_update_fme\n",
      "0  85  C26A  Grange Blanche       13 min    E  2023-06-04 17:48:06                 1095  C26A-0607_x0040__x0023_:1:1:26  12566  2023-06-04 17:34:02\n",
      "1  85  C26A  Grange Blanche       30 min    E  2023-06-04 18:05:00                 1095  C26A-0607_x0040__x0023_:4:1:17  12677  2023-06-04 17:34:02\n"
     ]
    }
   ],
   "source": [
    "# Fait la requete pour obtenir les données d'un arrêt et d'une ligne\n",
    "# Renvoie un tab a 2 dim avec 1ere dim = nom du champ et 2eme valeur (un peu dico mais appelé ici DataFrame)\n",
    "def GetData(auth, id_arret, ligne, type = \"E\"):\n",
    "    param = f\"id__eq={id_arret}&ligne__eq={ligne}&type__eq=E\"\n",
    "    param_csv=\"maxfeatures=-1&ds=.&separator=;&start=1\"\n",
    "    url = base_url + \"?\" + param + \"&\" + param_csv\n",
    "    response = requests.get(url, auth=auth)\n",
    "    text_csv = response.text\n",
    "    return pd.read_csv(io.StringIO(text_csv), sep=\";\").sort_values(\"heurepassage\")\n",
    "\n",
    "print(GetData(auth=auth, id_arret=id_arret, ligne=ligne).to_string())"
   ]
  },
  {
   "cell_type": "code",
   "execution_count": 8,
   "metadata": {},
   "outputs": [
    {
     "name": "stdout",
     "output_type": "stream",
     "text": [
      "Prochain  13 min\n",
      "Suivant   30 min\n"
     ]
    }
   ],
   "source": [
    "# Créer message\n",
    "def creer_message_delaipassage(data):\n",
    "    liste_msg = []\n",
    "    lenMaxLigne = 16\n",
    "    \n",
    "    for index, passage in data.iterrows():\n",
    "        if index == 0:\n",
    "            texte = \"Prochain \"\n",
    "        elif index == 1:\n",
    "            texte = \"Suivant \"\n",
    "        else:\n",
    "            texte = \"Apres \"\n",
    "\n",
    "        # Date et heure spécifiée au format \"AAAA-MM-JJ HH:MM:SS\"\n",
    "        date_passage_str = passage['heurepassage']\n",
    "        # Conversion de la chaîne de caractères en objet datetime\n",
    "        date_passage = datetime.strptime(date_passage_str, \"%Y-%m-%d %H:%M:%S\")\n",
    "        # Obtenir l'heure actuelle\n",
    "        now = datetime.now()\n",
    "        # Calculer la différence de temps en secondes\n",
    "        delta_seconds = (date_passage - now).total_seconds()\n",
    "        # Convertir la différence de temps en minutes et donne un string\n",
    "        delta_minutes_str = str(math.floor(delta_seconds / 60)) # Arrondi à l'inférieur\n",
    "        \n",
    "        space = ' ' * (lenMaxLigne - len(texte) - len(delta_minutes_str) - len(\" min\"))\n",
    "        liste_msg.append(texte + space + delta_minutes_str + \" min\")\n",
    "    return liste_msg\n",
    "\n",
    "liste_msg = creer_message_delaipassage(GetData(auth, id_arret,ligne))\n",
    "for msg in  liste_msg:\n",
    "    print(msg)"
   ]
  },
  {
   "cell_type": "code",
   "execution_count": 9,
   "metadata": {},
   "outputs": [],
   "source": [
    "def etablir_connexion_arduino(port, baud, first_message):\n",
    "    # Remplacez 'COM3' par le nom du port série utilisé par votre carte Arduino\n",
    "    arduino = serial.Serial(port, baud)\n",
    "    # Attendre que la connexion soit établie\n",
    "    time.sleep(2)\n",
    "    return arduino\n",
    "\n",
    "# Fermer la connexion\n",
    "def fermer_connexion(arduino):\n",
    "    arduino.close()\n",
    "\n",
    "# Envoie sur l'arduino message sur la ligne X\n",
    "def envoyer_message_arduino_ligne_x(arduino, message, ligne_x):\n",
    "    message = str(ligne_x) + ';' + message\n",
    "    arduino.write(message.encode())\n",
    "    \n",
    "# Envoie sur l'arduino le messages un des prochains passages\n",
    "def envoyer_message_arret_arduino(arduino, message):\n",
    "    envoyer_message_arduino_ligne_x(arduino, message, 0)\n",
    "\n",
    "\n",
    "# Envoie sur l'arduino le message d'info sur l'horaire\n",
    "def envoyer_message_passage_arduino(arduino, message):\n",
    "    envoyer_message_arduino_ligne_x(arduino, message, 1)"
   ]
  },
  {
   "attachments": {},
   "cell_type": "markdown",
   "metadata": {},
   "source": [
    "# Steam"
   ]
  },
  {
   "attachments": {},
   "cell_type": "markdown",
   "metadata": {},
   "source": [
    "pip install python-steam"
   ]
  },
  {
   "cell_type": "code",
   "execution_count": 5,
   "metadata": {},
   "outputs": [],
   "source": [
    "import requests\n",
    "import steam.webauth as wa\n",
    "import steam.webapi as api\n",
    "\n",
    "# variables\n",
    "id_jeu_valheim = 892970\n",
    "# Remplacez \"YOUR_API_KEY\" par votre clé d'API Steam\n",
    "api_key = \"\"\n",
    "\n",
    "# Remplacez \"YOUR_STEAM_ID\" par votre ID Steam\n",
    "steam_id = \"\""
   ]
  },
  {
   "cell_type": "code",
   "execution_count": 8,
   "metadata": {},
   "outputs": [],
   "source": [
    "def recup_username(api_key, steam_id_user):\n",
    "    username = \"Not found\"\n",
    "    # URL de l'API Steam pour obtenir les informations de l'utilisateur\n",
    "    url_player_info = f\"http://api.steampowered.com/ISteamUser/GetPlayerSummaries/v0002/?key={api_key}&steamids={steam_id_user}\"\n",
    "    # Faites une requête GET à l'API Steam pour obtenir les informations de l'utilisateur\n",
    "    response = requests.get(url_player_info)\n",
    "    data = response.json()\n",
    "\n",
    "    if data.get(\"response\"):\n",
    "        player_info = data[\"response\"][\"players\"][0]\n",
    "        player_name = player_info[\"personaname\"]\n",
    "        username = player_name\n",
    "    return username\n"
   ]
  },
  {
   "cell_type": "code",
   "execution_count": 9,
   "metadata": {},
   "outputs": [
    {
     "name": "stdout",
     "output_type": "stream",
     "text": [
      "{'76561198024743839': 'guillaume2181', '76561198054626463': 'Mda00', '76561198055041213': 'ArchmagosLoki', '76561198066271546': 'Boneshiver', '76561198076051119': 'RoG spoukies', '76561198079109507': 'GrandNago', '76561198089632433': 'hecafriquain', '76561198096377419': 'nicolas.vdt', '76561198108749957': 'Hanarch', '76561198117363527': 'Haxel', '76561198119510047': 'Port Salut', '76561198120953749': 'Lauradach', '76561198132418261': 'Matou21850', '76561198135031045': 'fff60000', '76561198154180013': 'thepoWerdark', '76561198154989286': 'Oriuck', '76561198163118048': '[BM]DARKSILVER', '76561198163400056': 'So La sekte', '76561198169603156': 'ramalac', '76561198269374767': 'Herrlockskun', '76561198297960415': 'ReDodge', '76561198315699250': 'Maubeuge', '76561198407505536': 'remremj', '76561198412543850': 'Nathus', '76561198827388775': 'Matorqui', '76561198829418646': 'Huriiko', '76561198845292735': 'archidamos429'}\n"
     ]
    }
   ],
   "source": [
    "def recup_liste_amis(api_key, steam_id):\n",
    "    liste_amis = {}\n",
    "    # URL de l'API Steam pour obtenir la liste d'amis\n",
    "    url_friends = f\"http://api.steampowered.com/ISteamUser/GetFriendList/v0001/?steamid={steam_id}&key={api_key}&relationship=friend\"\n",
    "    # Faites une requête GET à l'API Steam pour obtenir la liste d'amis\n",
    "    response = requests.get(url_friends)\n",
    "    data = response.json()\n",
    "\n",
    "    if data.get(\"friendslist\"):\n",
    "        friends = data[\"friendslist\"][\"friends\"]\n",
    "        for friend in friends:\n",
    "            # Obtenir l'ID Steam de l'ami\n",
    "            friend_id = friend[\"steamid\"]\n",
    "            username = recup_username(api_key, friend_id)\n",
    "            liste_amis[friend_id] = username\n",
    "    return liste_amis\n",
    "\n",
    "print(recup_liste_amis(api_key, steam_id))"
   ]
  },
  {
   "cell_type": "code",
   "execution_count": 10,
   "metadata": {},
   "outputs": [
    {
     "name": "stdout",
     "output_type": "stream",
     "text": [
      "guillaume2181 est sur le jeu 892970\n",
      "GrandNago est sur le jeu 892970\n",
      "Copains sur Valheim : 2\n"
     ]
    }
   ],
   "source": [
    "def friends_sur_un_jeu(api_key, liste_amis, id_jeu):\n",
    "    nbAmis = 0\n",
    "    for id_ami in liste_amis.keys():\n",
    "        # URL de l'API Steam pour obtenir les infos sur l'ami\n",
    "        url_info_ami = f\"http://api.steampowered.com/ISteamUser/GetPlayerSummaries/v0002/?key={api_key}&steamids={id_ami}\"\n",
    "        # Faites une requête GET à l'API Steam pour obtenir les jeux possédés par l'ami\n",
    "        response = requests.get(url_info_ami)\n",
    "        info_ami = response.json()\n",
    "        if info_ami.get(\"response\"):\n",
    "            # print(info_ami)\n",
    "            if info_ami[\"response\"][\"players\"][0].get(\"gameid\"):\n",
    "                if info_ami[\"response\"][\"players\"][0][\"gameid\"] == str(id_jeu):\n",
    "                    print(liste_amis[id_ami] + \" est sur le jeu \" + str(id_jeu))\n",
    "                    nbAmis +=1\n",
    "    return nbAmis\n",
    "\n",
    "print(\"Copains sur Valheim : \" + str(friends_sur_un_jeu(api_key, recup_liste_amis(api_key, steam_id), id_jeu_valheim)))"
   ]
  },
  {
   "cell_type": "code",
   "execution_count": 14,
   "metadata": {},
   "outputs": [],
   "source": [
    "# def creer_message_joueur_sur_valheim():"
   ]
  },
  {
   "cell_type": "code",
   "execution_count": 15,
   "metadata": {},
   "outputs": [
    {
     "name": "stdout",
     "output_type": "stream",
     "text": [
      "{'76561198024743839': 'guillaume2181', '76561198054626463': 'Mda00', '76561198055041213': 'ArchmagosLoki', '76561198066271546': 'Boneshiver', '76561198076051119': 'RoG spoukies', '76561198079109507': 'GrandNago', '76561198089632433': 'hecafriquain', '76561198096377419': 'nicolas.vdt', '76561198108749957': 'Hanarch', '76561198117363527': 'Haxel', '76561198119510047': 'Port Salut', '76561198120953749': 'Lauradach', '76561198132418261': 'Matou21850', '76561198135031045': 'fff60000', '76561198154180013': 'thepoWerdark', '76561198154989286': 'Oriuck', '76561198163118048': '[BM]DARKSILVER', '76561198163400056': 'So La sekte', '76561198169603156': 'ramalac', '76561198269374767': 'Herrlockskun', '76561198297960415': 'ReDodge', '76561198315699250': 'Maubeuge', '76561198407505536': 'remremj', '76561198412543850': 'Nathus', '76561198827388775': 'Matorqui', '76561198829418646': 'Huriiko', '76561198845292735': 'archidamos429'}\n"
     ]
    }
   ],
   "source": [
    "liste_amis = recup_liste_amis(api_key, steam_id)\n",
    "print(liste_amis)"
   ]
  },
  {
   "attachments": {},
   "cell_type": "markdown",
   "metadata": {},
   "source": [
    "# Programme "
   ]
  },
  {
   "cell_type": "code",
   "execution_count": 16,
   "metadata": {},
   "outputs": [
    {
     "ename": "SerialException",
     "evalue": "could not open port 'COM3': FileNotFoundError(2, 'Le fichier spécifié est introuvable.', None, 2)",
     "output_type": "error",
     "traceback": [
      "\u001b[1;31m---------------------------------------------------------------------------\u001b[0m",
      "\u001b[1;31mSerialException\u001b[0m                           Traceback (most recent call last)",
      "Cell \u001b[1;32mIn[16], line 28\u001b[0m\n\u001b[0;32m     25\u001b[0m         fermer_connexion(arduino)      \n\u001b[0;32m     26\u001b[0m         \u001b[39mprint\u001b[39m(\u001b[39m\"\u001b[39m\u001b[39mErreur\u001b[39m\u001b[39m\"\u001b[39m \u001b[39m+\u001b[39m \u001b[39mstr\u001b[39m(e))\n\u001b[1;32m---> 28\u001b[0m prog(auth, id_arret, ligne, port_selected, baud_selected)\n",
      "Cell \u001b[1;32mIn[16], line 5\u001b[0m, in \u001b[0;36mprog\u001b[1;34m(auth_url, id_arret, ligne, port_arduino, baud_arduino)\u001b[0m\n\u001b[0;32m      1\u001b[0m \u001b[39mdef\u001b[39;00m \u001b[39mprog\u001b[39m(auth_url, id_arret, ligne, port_arduino, baud_arduino):\n\u001b[0;32m      3\u001b[0m     time_actu_data \u001b[39m=\u001b[39m \u001b[39m60\u001b[39m \n\u001b[1;32m----> 5\u001b[0m     arduino \u001b[39m=\u001b[39m etablir_connexion_arduino(port_arduino, baud_arduino, first_message\u001b[39m=\u001b[39;49m\u001b[39m\"\u001b[39;49m\u001b[39mHelloworld\u001b[39;49m\u001b[39m\"\u001b[39;49m)\n\u001b[0;32m      7\u001b[0m     envoyer_message_arret_arduino(arduino, \u001b[39m\"\u001b[39m\u001b[39mArret Aubepins\u001b[39m\u001b[39m\"\u001b[39m)\n\u001b[0;32m      8\u001b[0m     time\u001b[39m.\u001b[39msleep(\u001b[39m10\u001b[39m)\n",
      "Cell \u001b[1;32mIn[9], line 3\u001b[0m, in \u001b[0;36metablir_connexion_arduino\u001b[1;34m(port, baud, first_message)\u001b[0m\n\u001b[0;32m      1\u001b[0m \u001b[39mdef\u001b[39;00m \u001b[39metablir_connexion_arduino\u001b[39m(port, baud, first_message):\n\u001b[0;32m      2\u001b[0m     \u001b[39m# Remplacez 'COM3' par le nom du port série utilisé par votre carte Arduino\u001b[39;00m\n\u001b[1;32m----> 3\u001b[0m     arduino \u001b[39m=\u001b[39m serial\u001b[39m.\u001b[39;49mSerial(port, baud)\n\u001b[0;32m      4\u001b[0m     \u001b[39m# Attendre que la connexion soit établie\u001b[39;00m\n\u001b[0;32m      5\u001b[0m     time\u001b[39m.\u001b[39msleep(\u001b[39m2\u001b[39m)\n",
      "File \u001b[1;32m~\\AppData\\Local\\Packages\\PythonSoftwareFoundation.Python.3.10_qbz5n2kfra8p0\\LocalCache\\local-packages\\Python310\\site-packages\\serial\\serialwin32.py:33\u001b[0m, in \u001b[0;36mSerial.__init__\u001b[1;34m(self, *args, **kwargs)\u001b[0m\n\u001b[0;32m     31\u001b[0m \u001b[39mself\u001b[39m\u001b[39m.\u001b[39m_overlapped_read \u001b[39m=\u001b[39m \u001b[39mNone\u001b[39;00m\n\u001b[0;32m     32\u001b[0m \u001b[39mself\u001b[39m\u001b[39m.\u001b[39m_overlapped_write \u001b[39m=\u001b[39m \u001b[39mNone\u001b[39;00m\n\u001b[1;32m---> 33\u001b[0m \u001b[39msuper\u001b[39m(Serial, \u001b[39mself\u001b[39m)\u001b[39m.\u001b[39m\u001b[39m__init__\u001b[39m(\u001b[39m*\u001b[39margs, \u001b[39m*\u001b[39m\u001b[39m*\u001b[39mkwargs)\n",
      "File \u001b[1;32m~\\AppData\\Local\\Packages\\PythonSoftwareFoundation.Python.3.10_qbz5n2kfra8p0\\LocalCache\\local-packages\\Python310\\site-packages\\serial\\serialutil.py:244\u001b[0m, in \u001b[0;36mSerialBase.__init__\u001b[1;34m(self, port, baudrate, bytesize, parity, stopbits, timeout, xonxoff, rtscts, write_timeout, dsrdtr, inter_byte_timeout, exclusive, **kwargs)\u001b[0m\n\u001b[0;32m    241\u001b[0m     \u001b[39mraise\u001b[39;00m \u001b[39mValueError\u001b[39;00m(\u001b[39m'\u001b[39m\u001b[39munexpected keyword arguments: \u001b[39m\u001b[39m{!r}\u001b[39;00m\u001b[39m'\u001b[39m\u001b[39m.\u001b[39mformat(kwargs))\n\u001b[0;32m    243\u001b[0m \u001b[39mif\u001b[39;00m port \u001b[39mis\u001b[39;00m \u001b[39mnot\u001b[39;00m \u001b[39mNone\u001b[39;00m:\n\u001b[1;32m--> 244\u001b[0m     \u001b[39mself\u001b[39;49m\u001b[39m.\u001b[39;49mopen()\n",
      "File \u001b[1;32m~\\AppData\\Local\\Packages\\PythonSoftwareFoundation.Python.3.10_qbz5n2kfra8p0\\LocalCache\\local-packages\\Python310\\site-packages\\serial\\serialwin32.py:64\u001b[0m, in \u001b[0;36mSerial.open\u001b[1;34m(self)\u001b[0m\n\u001b[0;32m     62\u001b[0m \u001b[39mif\u001b[39;00m \u001b[39mself\u001b[39m\u001b[39m.\u001b[39m_port_handle \u001b[39m==\u001b[39m win32\u001b[39m.\u001b[39mINVALID_HANDLE_VALUE:\n\u001b[0;32m     63\u001b[0m     \u001b[39mself\u001b[39m\u001b[39m.\u001b[39m_port_handle \u001b[39m=\u001b[39m \u001b[39mNone\u001b[39;00m    \u001b[39m# 'cause __del__ is called anyway\u001b[39;00m\n\u001b[1;32m---> 64\u001b[0m     \u001b[39mraise\u001b[39;00m SerialException(\u001b[39m\"\u001b[39m\u001b[39mcould not open port \u001b[39m\u001b[39m{!r}\u001b[39;00m\u001b[39m: \u001b[39m\u001b[39m{!r}\u001b[39;00m\u001b[39m\"\u001b[39m\u001b[39m.\u001b[39mformat(\u001b[39mself\u001b[39m\u001b[39m.\u001b[39mportstr, ctypes\u001b[39m.\u001b[39mWinError()))\n\u001b[0;32m     66\u001b[0m \u001b[39mtry\u001b[39;00m:\n\u001b[0;32m     67\u001b[0m     \u001b[39mself\u001b[39m\u001b[39m.\u001b[39m_overlapped_read \u001b[39m=\u001b[39m win32\u001b[39m.\u001b[39mOVERLAPPED()\n",
      "\u001b[1;31mSerialException\u001b[0m: could not open port 'COM3': FileNotFoundError(2, 'Le fichier spécifié est introuvable.', None, 2)"
     ]
    }
   ],
   "source": [
    "def prog(auth_url, id_arret, ligne, port_arduino, baud_arduino):\n",
    "\n",
    "    time_actu_data = 60 \n",
    "\n",
    "    arduino = etablir_connexion_arduino(port_arduino, baud_arduino, first_message=\"Helloworld\")\n",
    "    \n",
    "    envoyer_message_arret_arduino(arduino, \"Arret Aubepins\")\n",
    "    time.sleep(10)\n",
    "\n",
    "    i=0\n",
    "    try:\n",
    "        start_time = time.time()\n",
    "        while(True):\n",
    "            current_time = time.time()\n",
    "            if current_time - start_time >= time_actu_data:\n",
    "                # Récupère les data\n",
    "                data = GetData(auth, id_arret, ligne)\n",
    "                start_time = current_time\n",
    "\n",
    "            liste_prochain_passage = creer_message_delaipassage(data)\n",
    "            for passage in liste_prochain_passage:\n",
    "                envoyer_message_passage_arduino(arduino, passage)\n",
    "                time.sleep(2)  \n",
    "    except e:\n",
    "        fermer_connexion(arduino)      \n",
    "        print(\"Erreur\" + str(e))\n",
    "\n",
    "prog(auth, id_arret, ligne, port_selected, baud_selected)"
   ]
  },
  {
   "attachments": {},
   "cell_type": "markdown",
   "metadata": {},
   "source": [
    "# RabbitMQ"
   ]
  },
  {
   "cell_type": "code",
   "execution_count": null,
   "metadata": {},
   "outputs": [],
   "source": [
    "#!/usr/bin/env python\n",
    "import pika\n",
    "queue_name=\"arduino\""
   ]
  },
  {
   "attachments": {},
   "cell_type": "markdown",
   "metadata": {},
   "source": [
    "## Producer"
   ]
  },
  {
   "cell_type": "code",
   "execution_count": null,
   "metadata": {},
   "outputs": [
    {
     "data": {
      "text/plain": [
       "<METHOD(['channel_number=1', 'frame_type=1', \"method=<Queue.DeclareOk(['consumer_count=0', 'message_count=1', 'queue=arduino'])>\"])>"
      ]
     },
     "execution_count": 2,
     "metadata": {},
     "output_type": "execute_result"
    }
   ],
   "source": [
    "connection = pika.BlockingConnection(pika.ConnectionParameters('localhost'))\n",
    "channel = connection.channel()\n",
    "# Créer la queue\n",
    "channel.queue_declare(queue=queue_name)"
   ]
  },
  {
   "cell_type": "code",
   "execution_count": null,
   "metadata": {},
   "outputs": [],
   "source": [
    "credentials = pika.PlainCredentials(username=\"guest\", password=\"guest\")\n",
    "parameters = pika.ConnectionParameters(host=\"localhost\", \n",
    "                                        port=5672,\n",
    "                                        virtual_host=\"/\",\n",
    "                                        credentials=credentials)\n",
    "connection = pika.BlockingConnection(parameters)\n",
    "channel= connection.channel()"
   ]
  },
  {
   "cell_type": "code",
   "execution_count": null,
   "metadata": {},
   "outputs": [
    {
     "name": "stdout",
     "output_type": "stream",
     "text": [
      " [x] Sent 'Hello World! {0}\n"
     ]
    }
   ],
   "source": [
    "for i in range(0,1):\n",
    "    channel.basic_publish(exchange='',\n",
    "                        routing_key=queue_name,\n",
    "                        body='Hello World! ' + str({i}))\n",
    "    print(\" [x] Sent 'Hello World! \" + str({i}))"
   ]
  },
  {
   "cell_type": "code",
   "execution_count": null,
   "metadata": {},
   "outputs": [],
   "source": [
    "connection.close()"
   ]
  },
  {
   "attachments": {},
   "cell_type": "markdown",
   "metadata": {},
   "source": [
    "## Consumer"
   ]
  },
  {
   "cell_type": "code",
   "execution_count": null,
   "metadata": {},
   "outputs": [
    {
     "data": {
      "text/plain": [
       "<METHOD(['channel_number=1', 'frame_type=1', \"method=<Queue.DeclareOk(['consumer_count=0', 'message_count=4', 'queue=hello'])>\"])>"
      ]
     },
     "execution_count": 28,
     "metadata": {},
     "output_type": "execute_result"
    }
   ],
   "source": [
    "connection = pika.BlockingConnection(pika.ConnectionParameters('localhost'))\n",
    "channel = connection.channel()\n",
    "channel.queue_declare(queue='hello')"
   ]
  },
  {
   "cell_type": "code",
   "execution_count": null,
   "metadata": {},
   "outputs": [],
   "source": [
    "def callback(ch, method, properties, body):\n",
    "    print(\" [x] Received %r\" % body)"
   ]
  },
  {
   "cell_type": "code",
   "execution_count": null,
   "metadata": {},
   "outputs": [
    {
     "data": {
      "text/plain": [
       "'ctag1.b73c07347ca34a6a8317ee753b0c14c7'"
      ]
     },
     "execution_count": 29,
     "metadata": {},
     "output_type": "execute_result"
    }
   ],
   "source": [
    "channel.basic_consume(queue='hello',\n",
    "                      auto_ack=True,\n",
    "                      on_message_callback=callback)"
   ]
  },
  {
   "cell_type": "code",
   "execution_count": null,
   "metadata": {},
   "outputs": [
    {
     "name": "stdout",
     "output_type": "stream",
     "text": [
      " [*] Waiting for messages. To exit press CTRL+C\n",
      " [x] Received b'Hello World!'\n",
      " [x] Received b'Hello World!'\n",
      " [x] Received b'Hello World!'\n",
      " [x] Received b'Hello World!'\n"
     ]
    },
    {
     "ename": "KeyboardInterrupt",
     "evalue": "",
     "output_type": "error",
     "traceback": [
      "\u001b[1;31m---------------------------------------------------------------------------\u001b[0m",
      "\u001b[1;31mKeyboardInterrupt\u001b[0m                         Traceback (most recent call last)",
      "Cell \u001b[1;32mIn[30], line 2\u001b[0m\n\u001b[0;32m      1\u001b[0m \u001b[39mprint\u001b[39m(\u001b[39m'\u001b[39m\u001b[39m [*] Waiting for messages. To exit press CTRL+C\u001b[39m\u001b[39m'\u001b[39m)\n\u001b[1;32m----> 2\u001b[0m channel\u001b[39m.\u001b[39;49mstart_consuming()\n",
      "File \u001b[1;32m~\\AppData\\Local\\Packages\\PythonSoftwareFoundation.Python.3.10_qbz5n2kfra8p0\\LocalCache\\local-packages\\Python310\\site-packages\\pika\\adapters\\blocking_connection.py:1883\u001b[0m, in \u001b[0;36mBlockingChannel.start_consuming\u001b[1;34m(self)\u001b[0m\n\u001b[0;32m   1880\u001b[0m \u001b[39m# Process events as long as consumers exist on this channel\u001b[39;00m\n\u001b[0;32m   1881\u001b[0m \u001b[39mwhile\u001b[39;00m \u001b[39mself\u001b[39m\u001b[39m.\u001b[39m_consumer_infos:\n\u001b[0;32m   1882\u001b[0m     \u001b[39m# This will raise ChannelClosed if channel is closed by broker\u001b[39;00m\n\u001b[1;32m-> 1883\u001b[0m     \u001b[39mself\u001b[39;49m\u001b[39m.\u001b[39;49m_process_data_events(time_limit\u001b[39m=\u001b[39;49m\u001b[39mNone\u001b[39;49;00m)\n",
      "File \u001b[1;32m~\\AppData\\Local\\Packages\\PythonSoftwareFoundation.Python.3.10_qbz5n2kfra8p0\\LocalCache\\local-packages\\Python310\\site-packages\\pika\\adapters\\blocking_connection.py:2044\u001b[0m, in \u001b[0;36mBlockingChannel._process_data_events\u001b[1;34m(self, time_limit)\u001b[0m\n\u001b[0;32m   2025\u001b[0m \u001b[39mdef\u001b[39;00m \u001b[39m_process_data_events\u001b[39m(\u001b[39mself\u001b[39m, time_limit):\n\u001b[0;32m   2026\u001b[0m \u001b[39m    \u001b[39m\u001b[39m\"\"\"Wrapper for `BlockingConnection.process_data_events()` with common\u001b[39;00m\n\u001b[0;32m   2027\u001b[0m \u001b[39m    channel-specific logic that raises ChannelClosed if broker closed this\u001b[39;00m\n\u001b[0;32m   2028\u001b[0m \u001b[39m    channel.\u001b[39;00m\n\u001b[1;32m   (...)\u001b[0m\n\u001b[0;32m   2042\u001b[0m \n\u001b[0;32m   2043\u001b[0m \u001b[39m    \"\"\"\u001b[39;00m\n\u001b[1;32m-> 2044\u001b[0m     \u001b[39mself\u001b[39;49m\u001b[39m.\u001b[39;49mconnection\u001b[39m.\u001b[39;49mprocess_data_events(time_limit\u001b[39m=\u001b[39;49mtime_limit)\n\u001b[0;32m   2045\u001b[0m     \u001b[39mif\u001b[39;00m \u001b[39mself\u001b[39m\u001b[39m.\u001b[39mis_closed \u001b[39mand\u001b[39;00m \u001b[39misinstance\u001b[39m(\u001b[39mself\u001b[39m\u001b[39m.\u001b[39m_closing_reason,\n\u001b[0;32m   2046\u001b[0m                                      exceptions\u001b[39m.\u001b[39mChannelClosedByBroker):\n\u001b[0;32m   2047\u001b[0m         LOGGER\u001b[39m.\u001b[39mdebug(\u001b[39m'\u001b[39m\u001b[39mChannel close by broker detected, raising \u001b[39m\u001b[39m%r\u001b[39;00m\u001b[39m; \u001b[39m\u001b[39m%r\u001b[39;00m\u001b[39m'\u001b[39m,\n\u001b[0;32m   2048\u001b[0m                      \u001b[39mself\u001b[39m\u001b[39m.\u001b[39m_closing_reason, \u001b[39mself\u001b[39m)\n",
      "File \u001b[1;32m~\\AppData\\Local\\Packages\\PythonSoftwareFoundation.Python.3.10_qbz5n2kfra8p0\\LocalCache\\local-packages\\Python310\\site-packages\\pika\\adapters\\blocking_connection.py:842\u001b[0m, in \u001b[0;36mBlockingConnection.process_data_events\u001b[1;34m(self, time_limit)\u001b[0m\n\u001b[0;32m    838\u001b[0m common_terminator \u001b[39m=\u001b[39m \u001b[39mlambda\u001b[39;00m: \u001b[39mbool\u001b[39m(dispatch_acquired \u001b[39mand\u001b[39;00m\n\u001b[0;32m    839\u001b[0m                                  (\u001b[39mself\u001b[39m\u001b[39m.\u001b[39m_channels_pending_dispatch \u001b[39mor\u001b[39;00m\n\u001b[0;32m    840\u001b[0m                                   \u001b[39mself\u001b[39m\u001b[39m.\u001b[39m_ready_events))\n\u001b[0;32m    841\u001b[0m \u001b[39mif\u001b[39;00m time_limit \u001b[39mis\u001b[39;00m \u001b[39mNone\u001b[39;00m:\n\u001b[1;32m--> 842\u001b[0m     \u001b[39mself\u001b[39;49m\u001b[39m.\u001b[39;49m_flush_output(common_terminator)\n\u001b[0;32m    843\u001b[0m \u001b[39melse\u001b[39;00m:\n\u001b[0;32m    844\u001b[0m     \u001b[39mwith\u001b[39;00m _IoloopTimerContext(time_limit, \u001b[39mself\u001b[39m\u001b[39m.\u001b[39m_impl) \u001b[39mas\u001b[39;00m timer:\n",
      "File \u001b[1;32m~\\AppData\\Local\\Packages\\PythonSoftwareFoundation.Python.3.10_qbz5n2kfra8p0\\LocalCache\\local-packages\\Python310\\site-packages\\pika\\adapters\\blocking_connection.py:514\u001b[0m, in \u001b[0;36mBlockingConnection._flush_output\u001b[1;34m(self, *waiters)\u001b[0m\n\u001b[0;32m    512\u001b[0m \u001b[39m# Process I/O until our completion condition is satisfied\u001b[39;00m\n\u001b[0;32m    513\u001b[0m \u001b[39mwhile\u001b[39;00m \u001b[39mnot\u001b[39;00m is_done():\n\u001b[1;32m--> 514\u001b[0m     \u001b[39mself\u001b[39;49m\u001b[39m.\u001b[39;49m_impl\u001b[39m.\u001b[39;49mioloop\u001b[39m.\u001b[39;49mpoll()\n\u001b[0;32m    515\u001b[0m     \u001b[39mself\u001b[39m\u001b[39m.\u001b[39m_impl\u001b[39m.\u001b[39mioloop\u001b[39m.\u001b[39mprocess_timeouts()\n\u001b[0;32m    517\u001b[0m \u001b[39mif\u001b[39;00m \u001b[39mself\u001b[39m\u001b[39m.\u001b[39m_closed_result\u001b[39m.\u001b[39mready:\n",
      "File \u001b[1;32m~\\AppData\\Local\\Packages\\PythonSoftwareFoundation.Python.3.10_qbz5n2kfra8p0\\LocalCache\\local-packages\\Python310\\site-packages\\pika\\adapters\\select_connection.py:579\u001b[0m, in \u001b[0;36mIOLoop.poll\u001b[1;34m(self)\u001b[0m\n\u001b[0;32m    572\u001b[0m \u001b[39mdef\u001b[39;00m \u001b[39mpoll\u001b[39m(\u001b[39mself\u001b[39m):\n\u001b[0;32m    573\u001b[0m \u001b[39m    \u001b[39m\u001b[39m\"\"\"[Extension] Wait for events of interest on registered file\u001b[39;00m\n\u001b[0;32m    574\u001b[0m \u001b[39m    descriptors until an event of interest occurs or next timer deadline or\u001b[39;00m\n\u001b[0;32m    575\u001b[0m \u001b[39m    `_PollerBase._MAX_POLL_TIMEOUT`, whichever is sooner, and dispatch the\u001b[39;00m\n\u001b[0;32m    576\u001b[0m \u001b[39m    corresponding event handlers.\u001b[39;00m\n\u001b[0;32m    577\u001b[0m \n\u001b[0;32m    578\u001b[0m \u001b[39m    \"\"\"\u001b[39;00m\n\u001b[1;32m--> 579\u001b[0m     \u001b[39mself\u001b[39;49m\u001b[39m.\u001b[39;49m_poller\u001b[39m.\u001b[39;49mpoll()\n",
      "File \u001b[1;32m~\\AppData\\Local\\Packages\\PythonSoftwareFoundation.Python.3.10_qbz5n2kfra8p0\\LocalCache\\local-packages\\Python310\\site-packages\\pika\\adapters\\select_connection.py:953\u001b[0m, in \u001b[0;36mSelectPoller.poll\u001b[1;34m(self)\u001b[0m\n\u001b[0;32m    949\u001b[0m \u001b[39mtry\u001b[39;00m:\n\u001b[0;32m    950\u001b[0m     \u001b[39mif\u001b[39;00m (\u001b[39mself\u001b[39m\u001b[39m.\u001b[39m_fd_events[PollEvents\u001b[39m.\u001b[39mREAD] \u001b[39mor\u001b[39;00m\n\u001b[0;32m    951\u001b[0m             \u001b[39mself\u001b[39m\u001b[39m.\u001b[39m_fd_events[PollEvents\u001b[39m.\u001b[39mWRITE] \u001b[39mor\u001b[39;00m\n\u001b[0;32m    952\u001b[0m             \u001b[39mself\u001b[39m\u001b[39m.\u001b[39m_fd_events[PollEvents\u001b[39m.\u001b[39mERROR]):\n\u001b[1;32m--> 953\u001b[0m         read, write, error \u001b[39m=\u001b[39m select\u001b[39m.\u001b[39;49mselect(\n\u001b[0;32m    954\u001b[0m             \u001b[39mself\u001b[39;49m\u001b[39m.\u001b[39;49m_fd_events[PollEvents\u001b[39m.\u001b[39;49mREAD],\n\u001b[0;32m    955\u001b[0m             \u001b[39mself\u001b[39;49m\u001b[39m.\u001b[39;49m_fd_events[PollEvents\u001b[39m.\u001b[39;49mWRITE],\n\u001b[0;32m    956\u001b[0m             \u001b[39mself\u001b[39;49m\u001b[39m.\u001b[39;49m_fd_events[PollEvents\u001b[39m.\u001b[39;49mERROR], \u001b[39mself\u001b[39;49m\u001b[39m.\u001b[39;49m_get_max_wait())\n\u001b[0;32m    957\u001b[0m     \u001b[39melse\u001b[39;00m:\n\u001b[0;32m    958\u001b[0m         \u001b[39m# NOTE When called without any FDs, select fails on\u001b[39;00m\n\u001b[0;32m    959\u001b[0m         \u001b[39m# Windows with error 10022, 'An invalid argument was\u001b[39;00m\n\u001b[0;32m    960\u001b[0m         \u001b[39m# supplied'.\u001b[39;00m\n\u001b[0;32m    961\u001b[0m         time\u001b[39m.\u001b[39msleep(\u001b[39mself\u001b[39m\u001b[39m.\u001b[39m_get_max_wait())\n",
      "\u001b[1;31mKeyboardInterrupt\u001b[0m: "
     ]
    }
   ],
   "source": [
    "print(' [*] Waiting for messages. To exit press CTRL+C')\n",
    "channel.start_consuming()"
   ]
  },
  {
   "attachments": {},
   "cell_type": "markdown",
   "metadata": {},
   "source": [
    "## Receveur : delapineur"
   ]
  },
  {
   "attachments": {},
   "cell_type": "markdown",
   "metadata": {},
   "source": [
    "```\n",
    "pip install pika\n",
    "pip install sys\n",
    "pip install os\n",
    "pip install serial.tools.list_ports\n",
    "pip install time\n",
    "pip install datetime\n",
    "```"
   ]
  },
  {
   "cell_type": "code",
   "execution_count": null,
   "metadata": {},
   "outputs": [
    {
     "ename": "AttributeError",
     "evalue": "'NoneType' object has no attribute 'close'",
     "output_type": "error",
     "traceback": [
      "\u001b[1;31m---------------------------------------------------------------------------\u001b[0m",
      "\u001b[1;31mSerialException\u001b[0m                           Traceback (most recent call last)",
      "Cell \u001b[1;32mIn[2], line 128\u001b[0m\n\u001b[0;32m    126\u001b[0m \u001b[39mtry\u001b[39;00m:\n\u001b[0;32m    127\u001b[0m     \u001b[39m# Remplacez 'COM3' par le nom du port série utilisé par votre carte Arduino\u001b[39;00m\n\u001b[1;32m--> 128\u001b[0m     arduino \u001b[39m=\u001b[39m serial\u001b[39m.\u001b[39;49mSerial(port_arduino, baud)\n\u001b[0;32m    129\u001b[0m     \u001b[39m# Attendre que la connexion soit établie\u001b[39;00m\n",
      "File \u001b[1;32m~\\AppData\\Local\\Packages\\PythonSoftwareFoundation.Python.3.10_qbz5n2kfra8p0\\LocalCache\\local-packages\\Python310\\site-packages\\serial\\serialwin32.py:33\u001b[0m, in \u001b[0;36mSerial.__init__\u001b[1;34m(self, *args, **kwargs)\u001b[0m\n\u001b[0;32m     32\u001b[0m \u001b[39mself\u001b[39m\u001b[39m.\u001b[39m_overlapped_write \u001b[39m=\u001b[39m \u001b[39mNone\u001b[39;00m\n\u001b[1;32m---> 33\u001b[0m \u001b[39msuper\u001b[39m(Serial, \u001b[39mself\u001b[39m)\u001b[39m.\u001b[39m\u001b[39m__init__\u001b[39m(\u001b[39m*\u001b[39margs, \u001b[39m*\u001b[39m\u001b[39m*\u001b[39mkwargs)\n",
      "File \u001b[1;32m~\\AppData\\Local\\Packages\\PythonSoftwareFoundation.Python.3.10_qbz5n2kfra8p0\\LocalCache\\local-packages\\Python310\\site-packages\\serial\\serialutil.py:244\u001b[0m, in \u001b[0;36mSerialBase.__init__\u001b[1;34m(self, port, baudrate, bytesize, parity, stopbits, timeout, xonxoff, rtscts, write_timeout, dsrdtr, inter_byte_timeout, exclusive, **kwargs)\u001b[0m\n\u001b[0;32m    243\u001b[0m \u001b[39mif\u001b[39;00m port \u001b[39mis\u001b[39;00m \u001b[39mnot\u001b[39;00m \u001b[39mNone\u001b[39;00m:\n\u001b[1;32m--> 244\u001b[0m     \u001b[39mself\u001b[39;49m\u001b[39m.\u001b[39;49mopen()\n",
      "File \u001b[1;32m~\\AppData\\Local\\Packages\\PythonSoftwareFoundation.Python.3.10_qbz5n2kfra8p0\\LocalCache\\local-packages\\Python310\\site-packages\\serial\\serialwin32.py:64\u001b[0m, in \u001b[0;36mSerial.open\u001b[1;34m(self)\u001b[0m\n\u001b[0;32m     63\u001b[0m     \u001b[39mself\u001b[39m\u001b[39m.\u001b[39m_port_handle \u001b[39m=\u001b[39m \u001b[39mNone\u001b[39;00m    \u001b[39m# 'cause __del__ is called anyway\u001b[39;00m\n\u001b[1;32m---> 64\u001b[0m     \u001b[39mraise\u001b[39;00m SerialException(\u001b[39m\"\u001b[39m\u001b[39mcould not open port \u001b[39m\u001b[39m{!r}\u001b[39;00m\u001b[39m: \u001b[39m\u001b[39m{!r}\u001b[39;00m\u001b[39m\"\u001b[39m\u001b[39m.\u001b[39mformat(\u001b[39mself\u001b[39m\u001b[39m.\u001b[39mportstr, ctypes\u001b[39m.\u001b[39mWinError()))\n\u001b[0;32m     66\u001b[0m \u001b[39mtry\u001b[39;00m:\n",
      "\u001b[1;31mSerialException\u001b[0m: could not open port 'COM3': FileNotFoundError(2, 'Le fichier spécifié est introuvable.', None, 2)",
      "\nDuring handling of the above exception, another exception occurred:\n",
      "\u001b[1;31mAttributeError\u001b[0m                            Traceback (most recent call last)",
      "Cell \u001b[1;32mIn[2], line 140\u001b[0m\n\u001b[0;32m    138\u001b[0m         os\u001b[39m.\u001b[39m_exit(\u001b[39m0\u001b[39m)\n\u001b[0;32m    139\u001b[0m \u001b[39mfinally\u001b[39;00m:\n\u001b[1;32m--> 140\u001b[0m     arduino\u001b[39m.\u001b[39;49mclose()\n\u001b[0;32m    141\u001b[0m     connection\u001b[39m.\u001b[39mclose()\n",
      "\u001b[1;31mAttributeError\u001b[0m: 'NoneType' object has no attribute 'close'"
     ]
    }
   ],
   "source": [
    "#!/usr/bin/env python\n",
    "import pika, sys, os\n",
    "import serial.tools.list_ports\n",
    "import time\n",
    "from datetime import datetime\n",
    "\n",
    "# Arduino\n",
    "arduino = None\n",
    "port_arduino ='COM3'\n",
    "# port_arduino  = '/dev/ttyACM0'\n",
    "baud = 9600\n",
    "MSG_VIDE_ARDUINO=\"                ;                \"\n",
    "\n",
    "## Queue\n",
    "# Queue parametre\n",
    "ip_rabbitMQ_service=\"localhost\"\n",
    "port_rabbitMQ_service=5672\n",
    "virtual_host=\"/\"\n",
    "queue_name=\"\"\n",
    "username=\"\"\n",
    "password=\"\"\n",
    "\n",
    "# Queue : format message \n",
    "MSG_TEST=\"Toto;2023-06-04 00:35:45;2024-06-04 00:35:45;5;Message ligne 1;Message ligne2\"\n",
    "\n",
    "FORMAT_MSG=\"nom_publisher;date_envoie(%Y-%m-%d %H:%M:%S);date_peremption(%Y-%m-%d %H:%M:%S);duree_affichage(secondes);ligne1_msg;ligne2_msg\"\n",
    "NOM_PUBLISHER=0\n",
    "DATE_ENVOIE=1\n",
    "DATE_PEREMPTION=2\n",
    "DUREE_AFFICHAGE=3\n",
    "LIGNE1_MSG=4\n",
    "LIGNE2_MSG=5\n",
    "\n",
    "# Format du message : \n",
    "# nom_publisher\n",
    "# date_envoie => %Y-%m-%d %H:%M:%S\n",
    "# date_peremption => %Y-%m-%d %H:%M:%S.%3N\"\n",
    "# duree_affichage => en seconde\n",
    "# ligne1_msg\n",
    "# ligne2_msg\n",
    "\n",
    "def callback(ch, method, properties, body):\n",
    "    # print(\" [x] Received %r\" % body)\n",
    "    # print(\" [x] Received %r\" % body + str(body.type))\n",
    "    try:\n",
    "        params_msg = check_msg_ok(str(body))\n",
    "        if(check_validite_msg(params_msg)):\n",
    "                message_complet = params_msg[LIGNE1_MSG] + \";\" + params_msg[LIGNE2_MSG]\n",
    "                arduino.write(message_complet.encode())\n",
    "                print(\"Affichage pendant \" + str(params_msg[DUREE_AFFICHAGE]) + \"s du message : \" + message_complet)\n",
    "                time.sleep(params_msg[DUREE_AFFICHAGE])\n",
    "                arduino.write(MSG_VIDE_ARDUINO.encode())\n",
    "    except ValueError as e:\n",
    "        print(\"Erreur format : \" + str(e))\n",
    "    except Exception as e:\n",
    "        print(\"Erreur : \" + str(e))\n",
    "\n",
    "    \n",
    "def split_msg(data: str, separator : str = \";\") -> list:\n",
    "    return data.split(separator)\n",
    "\n",
    "def is_ascii(s):\n",
    "    return all(ord(c) < 128 for c in s)\n",
    "\n",
    "# Renvoie la liste des paramètres correctement convertie pour un traitement\n",
    "def check_msg_ok(message ) -> list:\n",
    "    params_msg = split_msg(message)\n",
    "    \n",
    "    # Erreur de format pour le message\n",
    "    if(len(params_msg) != 6):\n",
    "        raise ValueError(\"Format message pas du bon type : \" + \";\".join(params_msg) + \" et format attendu : \" + FORMAT_MSG)\n",
    "\n",
    "    # Vérifiacation des chaines ascii\n",
    "    if(is_ascii(params_msg[NOM_PUBLISHER]) == False):\n",
    "        raise ValueError(\"Erreur valeur non ASCII pour le nom du publisher : \"+ params_msg[NOM_PUBLISHER])\n",
    "    if(is_ascii(params_msg[LIGNE1_MSG]) == False):\n",
    "        raise ValueError(\"Erreur valeur non ASCII pour le msg sur la ligne 1 : \"+ params_msg[LIGNE1_MSG])\n",
    "    if(is_ascii(params_msg[LIGNE2_MSG]) == False):\n",
    "        raise ValueError(\"Erreur valeur non ASCII pour le msg sur la ligne 1 : \"+ params_msg[LIGNE2_MSG])\n",
    "\n",
    "    # Récupération date\n",
    "    try: # Récupération de la date d'envoie\n",
    "        date_envoie = datetime.strptime(params_msg[DATE_ENVOIE], \"%Y-%m-%d %H:%M:%S\")\n",
    "        params_msg[DATE_ENVOIE] = date_envoie\n",
    "    except ValueError as e:\n",
    "       print(\"Erreur date d'envoie : \" + str(e))\n",
    "    try: # Récupération de la date de peremption\n",
    "        date_peremption = datetime.strptime(params_msg[DATE_PEREMPTION], \"%Y-%m-%d %H:%M:%S\")\n",
    "        params_msg[DATE_PEREMPTION] = date_peremption\n",
    "    except ValueError as e:\n",
    "       print(\"Erreur date de péremption :\" + str(e))\n",
    "\n",
    "    try: # Récupération duree affichage\n",
    "        duree_affichage = int(params_msg[DUREE_AFFICHAGE])\n",
    "        params_msg[DUREE_AFFICHAGE] = duree_affichage\n",
    "    except ValueError as e:\n",
    "        print(\"Erreur format duree affichage :\" + str(e))\n",
    "\n",
    "    return params_msg\n",
    "\n",
    "# Check si la date de peremption n'est pas dépassee\n",
    "def check_validite_msg(params_msg: list) -> bool:\n",
    "    # if(time.time() + params_msg[DUREE_AFFICHAGE] > params_msg[DATE_PEREMPTION]):\n",
    "    if(datetime.now() > params_msg[DATE_PEREMPTION]):\n",
    "        return False\n",
    "    else:\n",
    "        return True\n",
    "\n",
    "def main():\n",
    "\n",
    "    credentials = pika.PlainCredentials(username=username, password=password)\n",
    "    parameters = pika.ConnectionParameters(host=ip_rabbitMQ_service, \n",
    "                                           port=port_rabbitMQ_service,\n",
    "                                           virtual_host=virtual_host,\n",
    "                                           credentials=credentials)\n",
    "    connection = pika.BlockingConnection(parameters)\n",
    "    channel = connection.channel()\n",
    "    # channel.queue_declare(queue=queue_name)\n",
    "\n",
    "    channel.basic_consume(queue=queue_name, on_message_callback=callback, auto_ack=True)\n",
    "\n",
    "    print(' [*] Waiting for messages. To exit press CTRL+C')\n",
    "    channel.start_consuming()\n",
    "\n",
    "if __name__ == '__main__':\n",
    "    try:\n",
    "        # Remplacez 'COM3' par le nom du port série utilisé par votre carte Arduino\n",
    "        arduino = serial.Serial(port_arduino, baud)\n",
    "        # Attendre que la connexion soit établie\n",
    "        time.sleep(2)\n",
    "\n",
    "        main()\n",
    "    except KeyboardInterrupt:\n",
    "        print('Interrupted')\n",
    "        try:\n",
    "            sys.exit(0)\n",
    "        except SystemExit:\n",
    "            os._exit(0)\n",
    "    finally:\n",
    "        arduino.close()\n",
    "        connection.close()"
   ]
  },
  {
   "attachments": {},
   "cell_type": "markdown",
   "metadata": {},
   "source": [
    "## Emetteur Lapin TCL"
   ]
  },
  {
   "cell_type": "code",
   "execution_count": 1,
   "metadata": {},
   "outputs": [
    {
     "name": "stdout",
     "output_type": "stream",
     "text": [
      "Durée du script : 10  minute\n"
     ]
    },
    {
     "ename": "",
     "evalue": "",
     "output_type": "error",
     "traceback": [
      "\u001b[1;31mCanceled future for execute_request message before replies were done"
     ]
    },
    {
     "ename": "",
     "evalue": "",
     "output_type": "error",
     "traceback": [
      "\u001b[1;31mLe Kernel s’est bloqué lors de l’exécution du code dans la cellule active ou une cellule précédente. Veuillez vérifier le code dans la ou les cellules pour identifier une cause possible de l’échec. Cliquez <a href='https://aka.ms/vscodeJupyterKernelCrash'>ici</a> pour plus d’informations. Pour plus d’informations, consultez Jupyter <a href='command:jupyter.viewOutput'>log</a>."
     ]
    }
   ],
   "source": [
    "#!/usr/bin/env python\n",
    "# Librairies\n",
    "import pika, sys, os\n",
    "import sys\n",
    "import pandas as pd\n",
    "import requests\n",
    "import io\n",
    "from datetime import datetime, timedelta\n",
    "import math\n",
    "import time\n",
    "\n",
    "# Format du message : \n",
    "# nom_publisher\n",
    "# date_envoie => %Y-%m-%d %H:%M:%S\n",
    "# date_peremption => %Y-%m-%d %H:%M:%S.%3N\"\n",
    "# duree_affichage => en seconde\n",
    "# ligne1_msg\n",
    "# ligne2_msg\n",
    "# Queue : format message \n",
    "MSG_TEST=\"Toto;2023-06-04 00:35:45;2024-06-04 00:35:45;5;Message ligne 1;Message ligne2\"\n",
    "FORMAT_MSG=\"nom_publisher;date_envoie(%Y-%m-%d %H:%M:%S);date_peremption(%Y-%m-%d %H:%M:%S);duree_affichage(secondes);ligne1_msg;ligne2_msg\"\n",
    "\n",
    "## Queue\n",
    "# Queue parametre\n",
    "ip_rabbitMQ_service=\"localhost\"\n",
    "port_rabbitMQ_service=5672\n",
    "virtual_host=\"/\"\n",
    "queue_name=\"\"\n",
    "usernameQueue=\"\"\n",
    "passwordQueue=\"\"\n",
    "\n",
    "## Param TCL\n",
    "usernameTCL=\"\"\n",
    "passwordTCL=\"\"\n",
    "base_url = \"https://download.data.grandlyon.com/ws/rdata/tcl_sytral.tclpassagearret/all.csv\"\n",
    "authTCL = (usernameTCL, passwordTCL)\n",
    "\n",
    "secondes_entre_2_requetes = 60 # secondes\n",
    "duree_affichage = 5\n",
    "nb_message_envoye = secondes_entre_2_requetes / duree_affichage\n",
    "id_arret= 85 # Aubepin\n",
    "nom_arret = \"Aubepin\"\n",
    "ligne = \"C26A\" # C26 direction Grange blanche\n",
    "\n",
    "# Fait la requete pour obtenir les données d'un arrêt et d'une ligne\n",
    "# Renvoie un tab a 2 dim avec 1ere dim = nom du champ et 2eme valeur (un peu dico mais appelé ici DataFrame)\n",
    "def GetDataTCL(auth, id_arret, ligne, type = \"E\"):\n",
    "    param = f\"id__eq={id_arret}&ligne__eq={ligne}&type__eq=E\"\n",
    "    param_csv=\"maxfeatures=-1&ds=.&separator=;&start=1\"\n",
    "    url = base_url + \"?\" + param + \"&\" + param_csv\n",
    "    response = requests.get(url, auth=auth)\n",
    "    text_csv = response.text\n",
    "    return pd.read_csv(io.StringIO(text_csv), sep=\";\").sort_values(\"heurepassage\")\n",
    "\n",
    "# Créer message\n",
    "def creer_message_delaipassage(data, nom_arret):\n",
    "    liste_msg = []\n",
    "    lenMaxLigne = 16\n",
    "    # Creation de l'entete du message\n",
    "    space = ' ' * (lenMaxLigne - len(data[\"ligne\"][0]) - len(\"arret \") - len(nom_arret))\n",
    "    titreLigne = data[\"ligne\"][0] + space + \"arret \" + nom_arret + \";\"\n",
    "\n",
    "    for index, passage in data.iterrows():\n",
    "        if index == 0:\n",
    "            texte = \"Prochain \"\n",
    "        elif index == 1:\n",
    "            texte = \"Suivant \"\n",
    "        else:\n",
    "            texte = \"Apres \"\n",
    "\n",
    "        # Date et heure spécifiée au format \"AAAA-MM-JJ HH:MM:SS\"\n",
    "        date_passage_str = passage['heurepassage']\n",
    "        # Conversion de la chaîne de caractères en objet datetime\n",
    "        date_passage = datetime.strptime(date_passage_str, \"%Y-%m-%d %H:%M:%S\")\n",
    "        # Obtenir l'heure actuelle\n",
    "        now = datetime.now()\n",
    "        # Calculer la différence de temps en secondes\n",
    "        delta_seconds = (date_passage - now).total_seconds()\n",
    "        # Convertir la différence de temps en minutes et donne un string\n",
    "        delta_minutes_str = str(math.floor(delta_seconds / 60)) # Arrondi à l'inférieur\n",
    "        \n",
    "        space = ' ' * (lenMaxLigne - len(texte) - len(delta_minutes_str) - len(\" min\"))\n",
    "        liste_msg.append(titreLigne + texte + space + delta_minutes_str + \" min\")\n",
    "    return liste_msg\n",
    "\n",
    "\n",
    "def creer_msg_queue(message : str, duree_affichage : int, temps_validite : int):\n",
    "    now = datetime.now()\n",
    "    date_peremption = now + timedelta(seconds = temps_validite)\n",
    "    date_envoie_str = now.strftime('%Y-%m-%d %H:%M:%S')\n",
    "    date_peremption_str = date_peremption.strftime('%Y-%m-%d %H:%M:%S')\n",
    "    return f\"TCL;{date_envoie_str};{date_peremption_str};{duree_affichage};{message}\"\n",
    "\n",
    "def main(duree_script: int):\n",
    "    # Connexion queue\n",
    "    credentials = pika.PlainCredentials(username=\"tcl\", password=\"tcl\")\n",
    "    parameters = pika.ConnectionParameters(host=ip_rabbitMQ_service,\n",
    "                                           port=port_rabbitMQ_service,\n",
    "                                           virtual_host=virtual_host,\n",
    "                                           credentials=credentials)\n",
    "    connection = pika.BlockingConnection(parameters)\n",
    "    channel = connection.channel()\n",
    "\n",
    "    start_time_script = datetime.now()\n",
    "    while(start_time_script + timedelta(minutes=duree_script) > datetime.now()):\n",
    "        data = GetDataTCL(auth=authTCL, id_arret=id_arret, ligne=ligne)\n",
    "        msg_delai = creer_message_delaipassage(data=data, nom_arret=nom_arret)\n",
    "        for i in range(0, int(nb_message_envoye/len(msg_delai))):\n",
    "            for m in msg_delai:\n",
    "                msg_queue=creer_msg_queue(message=m, duree_affichage=duree_affichage, temps_validite=duree_affichage * 3)\n",
    "                channel.basic_publish(exchange='',\n",
    "                                      routing_key=queue_name,\n",
    "                                      body=msg_queue)\n",
    "                time.sleep(duree_affichage)\n",
    "        # time.sleep(secondes_entre_2_requetes)\n",
    "\n",
    "    channel.basic_publish(exchange='',\n",
    "                        routing_key=queue_name,\n",
    "                        body=creer_msg_queue(message=\"  Bye Bye  TCL  ;                \", \n",
    "                                             duree_affichage=10,\n",
    "                                             temps_validite=120))\n",
    "    connection.close()\n",
    "\n",
    "if __name__ == '__main__':\n",
    "    try:\n",
    "        duree_script = 10 # en minutes\n",
    "\n",
    "        if len(sys.argv) > 1:\n",
    "            arg = sys.argv[1]\n",
    "            if arg.isdigit():\n",
    "                arg_int = int(arg)\n",
    "                if arg_int > 0:\n",
    "                    duree_script = arg_int\n",
    "\n",
    "        print(f\"Durée du script : {duree_script}  minute\")\n",
    "        main(duree_script)\n",
    "\n",
    "    except KeyboardInterrupt:\n",
    "        print('Interrupted')\n",
    "        try:\n",
    "            sys.exit(0)\n",
    "        except SystemExit:\n",
    "            os._exit(0)\n",
    "\n",
    "\n"
   ]
  },
  {
   "attachments": {},
   "cell_type": "markdown",
   "metadata": {},
   "source": [
    "## Lapin Viking steam"
   ]
  },
  {
   "cell_type": "code",
   "execution_count": 1,
   "metadata": {},
   "outputs": [
    {
     "name": "stdout",
     "output_type": "stream",
     "text": [
      "Durée du script : 60  minute\n"
     ]
    }
   ],
   "source": [
    "#!/usr/bin/env python\n",
    "# Librairies\n",
    "import pika, sys, os\n",
    "import sys\n",
    "import requests\n",
    "from datetime import datetime, timedelta\n",
    "import time\n",
    "import requests\n",
    "import steam.webauth as wa\n",
    "import steam.webapi as api\n",
    "import random\n",
    "\n",
    "# Format du message : \n",
    "# nom_publisher\n",
    "# date_envoie => %Y-%m-%d %H:%M:%S\n",
    "# date_peremption => %Y-%m-%d %H:%M:%S.%3N\"\n",
    "# duree_affichage => en seconde\n",
    "# ligne1_msg\n",
    "# ligne2_msg\n",
    "# Queue : format message \n",
    "MSG_TEST=\"Toto;2023-06-04 00:35:45;2024-06-04 00:35:45;5;Message ligne 1;Message ligne2\"\n",
    "FORMAT_MSG=\"nom_publisher;date_envoie(%Y-%m-%d %H:%M:%S);date_peremption(%Y-%m-%d %H:%M:%S);duree_affichage(secondes);ligne1_msg;ligne2_msg\"\n",
    "\n",
    "## Queue\n",
    "# Queue parametre\n",
    "ip_rabbitMQ_service=\"localhost\"\n",
    "port_rabbitMQ_service=5672\n",
    "virtual_host=\"/\"\n",
    "queue_name=\"arduino\"\n",
    "usernameQueue=\"\"\n",
    "passwordQueue=\"\"\n",
    "\n",
    "# variables\n",
    "id_jeu_valheim = 892970\n",
    "api_key = \"\"\n",
    "steam_id = \"\"\n",
    "\n",
    "TEMPS_AFFICHAGE=5\n",
    "TEMPS_VALIDITE=60\n",
    "\n",
    "def recup_username(api_key, steam_id_user):\n",
    "    username = \"Not found\"\n",
    "    # URL de l'API Steam pour obtenir les informations de l'utilisateur\n",
    "    url_player_info = f\"http://api.steampowered.com/ISteamUser/GetPlayerSummaries/v0002/?key={api_key}&steamids={steam_id_user}\"\n",
    "    # Faites une requête GET à l'API Steam pour obtenir les informations de l'utilisateur\n",
    "    response = requests.get(url_player_info)\n",
    "    data = response.json()\n",
    "\n",
    "    if data.get(\"response\"):\n",
    "        player_info = data[\"response\"][\"players\"][0]\n",
    "        player_name = player_info[\"personaname\"]\n",
    "        username = player_name\n",
    "    return username\n",
    "\n",
    "def recup_liste_amis(api_key, steam_id):\n",
    "    liste_amis = {}\n",
    "    # URL de l'API Steam pour obtenir la liste d'amis\n",
    "    url_friends = f\"http://api.steampowered.com/ISteamUser/GetFriendList/v0001/?steamid={steam_id}&key={api_key}&relationship=friend\"\n",
    "    # Faites une requête GET à l'API Steam pour obtenir la liste d'amis\n",
    "    response = requests.get(url_friends)\n",
    "    data = response.json()\n",
    "\n",
    "    if data.get(\"friendslist\"):\n",
    "        friends = data[\"friendslist\"][\"friends\"]\n",
    "        for friend in friends:\n",
    "            # Obtenir l'ID Steam de l'ami\n",
    "            friend_id = friend[\"steamid\"]\n",
    "            username = recup_username(api_key, friend_id)\n",
    "            liste_amis[friend_id] = username\n",
    "    return liste_amis\n",
    "\n",
    "def copains_sur_un_jeu(api_key, liste_amis, id_jeu):\n",
    "    nbAmis = 0\n",
    "    for id_ami in liste_amis.keys():\n",
    "        # URL de l'API Steam pour obtenir les infos sur l'ami\n",
    "        url_info_ami = f\"http://api.steampowered.com/ISteamUser/GetPlayerSummaries/v0002/?key={api_key}&steamids={id_ami}\"\n",
    "        # Faites une requête GET à l'API Steam pour obtenir les jeux possédés par l'ami\n",
    "        response = requests.get(url_info_ami)\n",
    "        info_ami = response.json()\n",
    "        if info_ami.get(\"response\"):\n",
    "            # print(info_ami)\n",
    "            if info_ami[\"response\"][\"players\"][0].get(\"gameid\"):\n",
    "                if info_ami[\"response\"][\"players\"][0][\"gameid\"] == str(id_jeu):\n",
    "                    print(liste_amis[id_ami] + \" est sur le jeu \" + str(id_jeu))\n",
    "                    nbAmis +=1\n",
    "    return nbAmis\n",
    "\n",
    "def creer_msg_joueur_sur_jeu(nb_joueur : int, nom_jeu : str):\n",
    "    ligne1      = [\"    VALHEIM     \", \"   Par Odin !   \", \"   Par Thor !   \", \"Drakkar en mer !\", \"  Skal a toi !  \", \"Fureur viking ! \", \"Valhalla attend \"]\n",
    "    ligne2_sing = [\" brave Viking  \" , \" fier guerrier \"  , \" fier guerrier \"  , \" copain en jeu \" , \" brave Nordique\"]\n",
    "    ligne2_plu = [\" braves Vikings \"  , \" fiers guerriers\" , \" fiers guerriers\" , \" copains en jeu\", \" viking en jeu \"]\n",
    "\n",
    "    msg = ligne1[random.randint(0, len(ligne1))] + \";\" \n",
    "    if(nb_joueur > 1):\n",
    "        msg += ligne2_plu[random.randint(0, len(ligne2_plu))]\n",
    "    else:\n",
    "        msg += ligne2_sing[random.randint(0, len(ligne2_sing))]\n",
    "    return msg \n",
    "\n",
    "def creer_msg_queue(message : str, duree_affichage: int, temps_validite: int):\n",
    "    now = datetime.now()\n",
    "    date_peremption = now + timedelta(seconds = temps_validite)\n",
    "    date_envoie_str = now.strftime('%Y-%m-%d %H:%M:%S')\n",
    "    date_peremption_str = date_peremption.strftime('%Y-%m-%d %H:%M:%S')\n",
    "    return f\"TCL;{date_envoie_str};{date_peremption_str};{duree_affichage};{message}\"\n",
    "\n",
    "\n",
    "def main(duree_script: int):\n",
    "    # Connexion queue\n",
    "    credentials = pika.PlainCredentials(username=usernameQueue, password=passwordQueue)\n",
    "    parameters = pika.ConnectionParameters(host=ip_rabbitMQ_service,\n",
    "                                           port=port_rabbitMQ_service,\n",
    "                                           virtual_host=virtual_host,\n",
    "                                           credentials=credentials)\n",
    "    connection = pika.BlockingConnection(parameters)\n",
    "    channel = connection.channel()\n",
    "\n",
    "    liste_amis = recup_liste_amis(api_key=api_key, steam_id=steam_id)\n",
    "\n",
    "    start_time_script = datetime.now()\n",
    "    while(start_time_script + timedelta(minutes=duree_script) > datetime.now()):\n",
    "        nb_copains_en_jeu = copains_sur_un_jeu(api_key=api_key, liste_amis=liste_amis, id_jeu=id_jeu_valheim)\n",
    "        if(nb_copains_en_jeu > 0):\n",
    "            msg = creer_msg_joueur_sur_jeu(nb_joueur=nb_copains_en_jeu, nom_jeu='Valheim')\n",
    "            msg_queue = creer_msg_queue(msg, TEMPS_AFFICHAGE, TEMPS_VALIDITE)\n",
    "            channel.basic_publish(exchange='',\n",
    "                                routing_key=queue_name,\n",
    "                                body=creer_msg_queue(message=\" Bye Bye steam  ; Viking go dodo \", \n",
    "                                                    duree_affichage=10,\n",
    "                                                    temps_validite=120))\n",
    "            time.sleep(TEMPS_AFFICHAGE * 2)\n",
    "        time.sleep(TEMPS_VALIDITE * 2)\n",
    "   \n",
    "    connection.close()\n",
    "\n",
    "if __name__ == '__main__':\n",
    "    try:\n",
    "        duree_script = 60 # en minutes\n",
    "\n",
    "        if len(sys.argv) > 1:\n",
    "            arg = sys.argv[1]\n",
    "            if arg.isdigit():\n",
    "                arg_int = int(arg)\n",
    "                if arg_int > 0:\n",
    "                    duree_script = arg_int\n",
    "\n",
    "        print(f\"Durée du script : {duree_script}  minute\")\n",
    "        main(duree_script)\n",
    "\n",
    "    except KeyboardInterrupt:\n",
    "        print('Interrupted')\n",
    "        try:\n",
    "            sys.exit(0)\n",
    "        except SystemExit:\n",
    "            os._exit(0)\n"
   ]
  }
 ],
 "metadata": {
  "kernelspec": {
   "display_name": "Python 3",
   "language": "python",
   "name": "python3"
  },
  "language_info": {
   "codemirror_mode": {
    "name": "ipython",
    "version": 3
   },
   "file_extension": ".py",
   "mimetype": "text/x-python",
   "name": "python",
   "nbconvert_exporter": "python",
   "pygments_lexer": "ipython3",
   "version": "3.10.11"
  },
  "orig_nbformat": 4
 },
 "nbformat": 4,
 "nbformat_minor": 2
}
